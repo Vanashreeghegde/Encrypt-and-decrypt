{
  "nbformat": 4,
  "nbformat_minor": 0,
  "metadata": {
    "colab": {
      "provenance": [],
      "authorship_tag": "ABX9TyOajdh/VwjNMYCqM4cENnm8",
      "include_colab_link": true
    },
    "kernelspec": {
      "name": "python3",
      "display_name": "Python 3"
    },
    "language_info": {
      "name": "python"
    }
  },
  "cells": [
    {
      "cell_type": "markdown",
      "metadata": {
        "id": "view-in-github",
        "colab_type": "text"
      },
      "source": [
        "<a href=\"https://colab.research.google.com/github/Vanashreeghegde/Encrypt-and-decrypt/blob/main/Encryption.ipynb\" target=\"_parent\"><img src=\"https://colab.research.google.com/assets/colab-badge.svg\" alt=\"Open In Colab\"/></a>"
      ]
    },
    {
      "cell_type": "code",
      "source": [
        "from tkinter import messagebox, simpledialog, Tk\n",
        "\n",
        "def is_even(number):\n",
        "    return number % 2 == 0\n",
        "\n",
        "def get_even_letters(message):\n",
        "    even_letters = []\n",
        "    for counter in range(0, len(message)):\n",
        "        if is_even(counter):\n",
        "            even_letters.append(message[counter])\n",
        "    return even_letters\n",
        "\n",
        "def get_odd_letters(message):\n",
        "    odd_letters = []\n",
        "    for counter in range(0, len(message)):\n",
        "        if not is_even(counter):\n",
        "            odd_letters.append(message[counter])\n",
        "    return odd_letters\n",
        "\n",
        "def swap_letters(message):\n",
        "    letter_list = []\n",
        "    if not is_even(len(message)):\n",
        "        message = message + 'x'\n",
        "    even_letters = get_even_letters(message)\n",
        "    odd_letters = get_odd_letters(message)\n",
        "    for counter in range(0, int(len(message)/2)):\n",
        "        letter_list.append(odd_letters[counter])\n",
        "        letter_list.append(even_letters[counter])\n",
        "    new_message = ''.join(letter_list)\n",
        "    return new_message\n",
        "\n",
        "def get_task():\n",
        "    task = simpledialog.askstring('Task', 'Do you want to encypt')\n",
        "    return task\n",
        "\n",
        "def get_message():\n",
        "    message = simpledialog.askstring('Message', 'Enter the secret message: ')\n",
        "    return message\n",
        "\n",
        "root = Tk()\n",
        "while True:\n",
        "    task = get_task()\n",
        "    if task == 'yes':\n",
        "        message = get_message()\n",
        "        encrypted = swap_letters(message)\n",
        "        messagebox.showinfo('Ciphertext of the secret message is:', encrypted)\n",
        "    else:\n",
        "        break\n",
        "root.mainloop()"
      ],
      "metadata": {
        "id": "s6gDTGJlrPfZ"
      },
      "execution_count": null,
      "outputs": []
    }
  ]
}